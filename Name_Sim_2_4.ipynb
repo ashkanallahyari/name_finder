{
  "cells": [
    {
      "cell_type": "markdown",
      "metadata": {
        "id": "view-in-github",
        "colab_type": "text"
      },
      "source": [
        "<a href=\"https://colab.research.google.com/github/ashkanallahyari/name_finder/blob/main/Name_Sim_2_4.ipynb\" target=\"_parent\"><img src=\"https://colab.research.google.com/assets/colab-badge.svg\" alt=\"Open In Colab\"/></a>"
      ]
    },
    {
      "cell_type": "markdown",
      "source": [
        "**Enter the name you like in (Preferebly in Farsi, but English also works).**\n",
        "\n",
        "This widget accepts a long list of names in Farsi. It currently contains the names of all Iranian villages (about 48.200 names), but you can import any other list you like as long as it includes a column named **'name'**.\n",
        "The widget will then convert the names to phonetics and suggest 10 names with phonetic similarities to the name you entered."
      ],
      "metadata": {
        "id": "_oiQ6U1Z5fA5"
      },
      "id": "_oiQ6U1Z5fA5"
    },
    {
      "cell_type": "code",
      "source": [
        "# What name do you like? Say it preferably in Farsi, but English also works\n",
        "# Here is some Farsi name examples (زاو، اوریم، نیما، اسنپ)\n",
        "\n",
        "my_word = input(\"What is your favorit name in Farsi: \")"
      ],
      "metadata": {
        "colab": {
          "base_uri": "https://localhost:8080/"
        },
        "id": "2HpdwWnLy5AQ",
        "outputId": "d888c088-4678-4a0a-b3d8-77dcced2405b"
      },
      "id": "2HpdwWnLy5AQ",
      "execution_count": 34,
      "outputs": [
        {
          "name": "stdout",
          "output_type": "stream",
          "text": [
            "What is your favorit name in Farsi: اسنپ\n"
          ]
        }
      ]
    },
    {
      "cell_type": "markdown",
      "source": [
        "## **Codes**"
      ],
      "metadata": {
        "id": "tZHe_TA604dS"
      },
      "id": "tZHe_TA604dS"
    },
    {
      "cell_type": "markdown",
      "source": [
        "### **required Libraries**"
      ],
      "metadata": {
        "id": "HuOnMt_iyE0U"
      },
      "id": "HuOnMt_iyE0U"
    },
    {
      "cell_type": "code",
      "execution_count": 35,
      "id": "07302cf1",
      "metadata": {
        "id": "07302cf1"
      },
      "outputs": [],
      "source": [
        "import pandas as pd\n",
        "import regex as re\n",
        "import gdown\n",
        "import pandas as pd"
      ]
    },
    {
      "cell_type": "markdown",
      "source": [
        "### **Name Source on Google Drive**"
      ],
      "metadata": {
        "id": "-yG9lHc0yJ1y"
      },
      "id": "-yG9lHc0yJ1y"
    },
    {
      "cell_type": "code",
      "execution_count": 36,
      "id": "c3bb402b",
      "metadata": {
        "colab": {
          "base_uri": "https://localhost:8080/",
          "height": 275
        },
        "id": "c3bb402b",
        "outputId": "84d04b83-2191-4399-8ab9-df0b2bcf6d11"
      },
      "outputs": [
        {
          "output_type": "stream",
          "name": "stderr",
          "text": [
            "Downloading...\n",
            "From: https://drive.google.com/uc?export=download&id=1diRpnHII0HCeemkZhdXxQTG94JvM54_g\n",
            "To: /content/data.xlsx\n",
            "100%|██████████| 1.12M/1.12M [00:00<00:00, 81.9MB/s]\n"
          ]
        },
        {
          "output_type": "execute_result",
          "data": {
            "text/plain": [
              "                           provinces                       cities  \\\n",
              "0  رده:روستاهای استان آذربایجان شرقی  رده:روستاهای شهرستان آذرشهر   \n",
              "1  رده:روستاهای استان آذربایجان شرقی  رده:روستاهای شهرستان آذرشهر   \n",
              "2  رده:روستاهای استان آذربایجان شرقی  رده:روستاهای شهرستان آذرشهر   \n",
              "3  رده:روستاهای استان آذربایجان شرقی  رده:روستاهای شهرستان آذرشهر   \n",
              "4  رده:روستاهای استان آذربایجان شرقی  رده:روستاهای شهرستان آذرشهر   \n",
              "\n",
              "     villages_names     names  \n",
              "0          آخی‌جهان  آخی‌جهان  \n",
              "1            الوانق    الوانق  \n",
              "2          امیردیزج  امیردیزج  \n",
              "3          پیرچوپان  پیرچوپان  \n",
              "4  تیرامین (آذرشهر)   تیرامین  "
            ],
            "text/html": [
              "\n",
              "  <div id=\"df-525fd350-a86a-43f3-bf70-47898a1f0377\" class=\"colab-df-container\">\n",
              "    <div>\n",
              "<style scoped>\n",
              "    .dataframe tbody tr th:only-of-type {\n",
              "        vertical-align: middle;\n",
              "    }\n",
              "\n",
              "    .dataframe tbody tr th {\n",
              "        vertical-align: top;\n",
              "    }\n",
              "\n",
              "    .dataframe thead th {\n",
              "        text-align: right;\n",
              "    }\n",
              "</style>\n",
              "<table border=\"1\" class=\"dataframe\">\n",
              "  <thead>\n",
              "    <tr style=\"text-align: right;\">\n",
              "      <th></th>\n",
              "      <th>provinces</th>\n",
              "      <th>cities</th>\n",
              "      <th>villages_names</th>\n",
              "      <th>names</th>\n",
              "    </tr>\n",
              "  </thead>\n",
              "  <tbody>\n",
              "    <tr>\n",
              "      <th>0</th>\n",
              "      <td>رده:روستاهای استان آذربایجان شرقی</td>\n",
              "      <td>رده:روستاهای شهرستان آذرشهر</td>\n",
              "      <td>آخی‌جهان</td>\n",
              "      <td>آخی‌جهان</td>\n",
              "    </tr>\n",
              "    <tr>\n",
              "      <th>1</th>\n",
              "      <td>رده:روستاهای استان آذربایجان شرقی</td>\n",
              "      <td>رده:روستاهای شهرستان آذرشهر</td>\n",
              "      <td>الوانق</td>\n",
              "      <td>الوانق</td>\n",
              "    </tr>\n",
              "    <tr>\n",
              "      <th>2</th>\n",
              "      <td>رده:روستاهای استان آذربایجان شرقی</td>\n",
              "      <td>رده:روستاهای شهرستان آذرشهر</td>\n",
              "      <td>امیردیزج</td>\n",
              "      <td>امیردیزج</td>\n",
              "    </tr>\n",
              "    <tr>\n",
              "      <th>3</th>\n",
              "      <td>رده:روستاهای استان آذربایجان شرقی</td>\n",
              "      <td>رده:روستاهای شهرستان آذرشهر</td>\n",
              "      <td>پیرچوپان</td>\n",
              "      <td>پیرچوپان</td>\n",
              "    </tr>\n",
              "    <tr>\n",
              "      <th>4</th>\n",
              "      <td>رده:روستاهای استان آذربایجان شرقی</td>\n",
              "      <td>رده:روستاهای شهرستان آذرشهر</td>\n",
              "      <td>تیرامین (آذرشهر)</td>\n",
              "      <td>تیرامین</td>\n",
              "    </tr>\n",
              "  </tbody>\n",
              "</table>\n",
              "</div>\n",
              "    <div class=\"colab-df-buttons\">\n",
              "\n",
              "  <div class=\"colab-df-container\">\n",
              "    <button class=\"colab-df-convert\" onclick=\"convertToInteractive('df-525fd350-a86a-43f3-bf70-47898a1f0377')\"\n",
              "            title=\"Convert this dataframe to an interactive table.\"\n",
              "            style=\"display:none;\">\n",
              "\n",
              "  <svg xmlns=\"http://www.w3.org/2000/svg\" height=\"24px\" viewBox=\"0 -960 960 960\">\n",
              "    <path d=\"M120-120v-720h720v720H120Zm60-500h600v-160H180v160Zm220 220h160v-160H400v160Zm0 220h160v-160H400v160ZM180-400h160v-160H180v160Zm440 0h160v-160H620v160ZM180-180h160v-160H180v160Zm440 0h160v-160H620v160Z\"/>\n",
              "  </svg>\n",
              "    </button>\n",
              "\n",
              "  <style>\n",
              "    .colab-df-container {\n",
              "      display:flex;\n",
              "      gap: 12px;\n",
              "    }\n",
              "\n",
              "    .colab-df-convert {\n",
              "      background-color: #E8F0FE;\n",
              "      border: none;\n",
              "      border-radius: 50%;\n",
              "      cursor: pointer;\n",
              "      display: none;\n",
              "      fill: #1967D2;\n",
              "      height: 32px;\n",
              "      padding: 0 0 0 0;\n",
              "      width: 32px;\n",
              "    }\n",
              "\n",
              "    .colab-df-convert:hover {\n",
              "      background-color: #E2EBFA;\n",
              "      box-shadow: 0px 1px 2px rgba(60, 64, 67, 0.3), 0px 1px 3px 1px rgba(60, 64, 67, 0.15);\n",
              "      fill: #174EA6;\n",
              "    }\n",
              "\n",
              "    .colab-df-buttons div {\n",
              "      margin-bottom: 4px;\n",
              "    }\n",
              "\n",
              "    [theme=dark] .colab-df-convert {\n",
              "      background-color: #3B4455;\n",
              "      fill: #D2E3FC;\n",
              "    }\n",
              "\n",
              "    [theme=dark] .colab-df-convert:hover {\n",
              "      background-color: #434B5C;\n",
              "      box-shadow: 0px 1px 3px 1px rgba(0, 0, 0, 0.15);\n",
              "      filter: drop-shadow(0px 1px 2px rgba(0, 0, 0, 0.3));\n",
              "      fill: #FFFFFF;\n",
              "    }\n",
              "  </style>\n",
              "\n",
              "    <script>\n",
              "      const buttonEl =\n",
              "        document.querySelector('#df-525fd350-a86a-43f3-bf70-47898a1f0377 button.colab-df-convert');\n",
              "      buttonEl.style.display =\n",
              "        google.colab.kernel.accessAllowed ? 'block' : 'none';\n",
              "\n",
              "      async function convertToInteractive(key) {\n",
              "        const element = document.querySelector('#df-525fd350-a86a-43f3-bf70-47898a1f0377');\n",
              "        const dataTable =\n",
              "          await google.colab.kernel.invokeFunction('convertToInteractive',\n",
              "                                                    [key], {});\n",
              "        if (!dataTable) return;\n",
              "\n",
              "        const docLinkHtml = 'Like what you see? Visit the ' +\n",
              "          '<a target=\"_blank\" href=https://colab.research.google.com/notebooks/data_table.ipynb>data table notebook</a>'\n",
              "          + ' to learn more about interactive tables.';\n",
              "        element.innerHTML = '';\n",
              "        dataTable['output_type'] = 'display_data';\n",
              "        await google.colab.output.renderOutput(dataTable, element);\n",
              "        const docLink = document.createElement('div');\n",
              "        docLink.innerHTML = docLinkHtml;\n",
              "        element.appendChild(docLink);\n",
              "      }\n",
              "    </script>\n",
              "  </div>\n",
              "\n",
              "\n",
              "    <div id=\"df-98f4d79a-37cf-4d71-bc9b-83be20124625\">\n",
              "      <button class=\"colab-df-quickchart\" onclick=\"quickchart('df-98f4d79a-37cf-4d71-bc9b-83be20124625')\"\n",
              "                title=\"Suggest charts\"\n",
              "                style=\"display:none;\">\n",
              "\n",
              "<svg xmlns=\"http://www.w3.org/2000/svg\" height=\"24px\"viewBox=\"0 0 24 24\"\n",
              "     width=\"24px\">\n",
              "    <g>\n",
              "        <path d=\"M19 3H5c-1.1 0-2 .9-2 2v14c0 1.1.9 2 2 2h14c1.1 0 2-.9 2-2V5c0-1.1-.9-2-2-2zM9 17H7v-7h2v7zm4 0h-2V7h2v10zm4 0h-2v-4h2v4z\"/>\n",
              "    </g>\n",
              "</svg>\n",
              "      </button>\n",
              "\n",
              "<style>\n",
              "  .colab-df-quickchart {\n",
              "      --bg-color: #E8F0FE;\n",
              "      --fill-color: #1967D2;\n",
              "      --hover-bg-color: #E2EBFA;\n",
              "      --hover-fill-color: #174EA6;\n",
              "      --disabled-fill-color: #AAA;\n",
              "      --disabled-bg-color: #DDD;\n",
              "  }\n",
              "\n",
              "  [theme=dark] .colab-df-quickchart {\n",
              "      --bg-color: #3B4455;\n",
              "      --fill-color: #D2E3FC;\n",
              "      --hover-bg-color: #434B5C;\n",
              "      --hover-fill-color: #FFFFFF;\n",
              "      --disabled-bg-color: #3B4455;\n",
              "      --disabled-fill-color: #666;\n",
              "  }\n",
              "\n",
              "  .colab-df-quickchart {\n",
              "    background-color: var(--bg-color);\n",
              "    border: none;\n",
              "    border-radius: 50%;\n",
              "    cursor: pointer;\n",
              "    display: none;\n",
              "    fill: var(--fill-color);\n",
              "    height: 32px;\n",
              "    padding: 0;\n",
              "    width: 32px;\n",
              "  }\n",
              "\n",
              "  .colab-df-quickchart:hover {\n",
              "    background-color: var(--hover-bg-color);\n",
              "    box-shadow: 0 1px 2px rgba(60, 64, 67, 0.3), 0 1px 3px 1px rgba(60, 64, 67, 0.15);\n",
              "    fill: var(--button-hover-fill-color);\n",
              "  }\n",
              "\n",
              "  .colab-df-quickchart-complete:disabled,\n",
              "  .colab-df-quickchart-complete:disabled:hover {\n",
              "    background-color: var(--disabled-bg-color);\n",
              "    fill: var(--disabled-fill-color);\n",
              "    box-shadow: none;\n",
              "  }\n",
              "\n",
              "  .colab-df-spinner {\n",
              "    border: 2px solid var(--fill-color);\n",
              "    border-color: transparent;\n",
              "    border-bottom-color: var(--fill-color);\n",
              "    animation:\n",
              "      spin 1s steps(1) infinite;\n",
              "  }\n",
              "\n",
              "  @keyframes spin {\n",
              "    0% {\n",
              "      border-color: transparent;\n",
              "      border-bottom-color: var(--fill-color);\n",
              "      border-left-color: var(--fill-color);\n",
              "    }\n",
              "    20% {\n",
              "      border-color: transparent;\n",
              "      border-left-color: var(--fill-color);\n",
              "      border-top-color: var(--fill-color);\n",
              "    }\n",
              "    30% {\n",
              "      border-color: transparent;\n",
              "      border-left-color: var(--fill-color);\n",
              "      border-top-color: var(--fill-color);\n",
              "      border-right-color: var(--fill-color);\n",
              "    }\n",
              "    40% {\n",
              "      border-color: transparent;\n",
              "      border-right-color: var(--fill-color);\n",
              "      border-top-color: var(--fill-color);\n",
              "    }\n",
              "    60% {\n",
              "      border-color: transparent;\n",
              "      border-right-color: var(--fill-color);\n",
              "    }\n",
              "    80% {\n",
              "      border-color: transparent;\n",
              "      border-right-color: var(--fill-color);\n",
              "      border-bottom-color: var(--fill-color);\n",
              "    }\n",
              "    90% {\n",
              "      border-color: transparent;\n",
              "      border-bottom-color: var(--fill-color);\n",
              "    }\n",
              "  }\n",
              "</style>\n",
              "\n",
              "      <script>\n",
              "        async function quickchart(key) {\n",
              "          const quickchartButtonEl =\n",
              "            document.querySelector('#' + key + ' button');\n",
              "          quickchartButtonEl.disabled = true;  // To prevent multiple clicks.\n",
              "          quickchartButtonEl.classList.add('colab-df-spinner');\n",
              "          try {\n",
              "            const charts = await google.colab.kernel.invokeFunction(\n",
              "                'suggestCharts', [key], {});\n",
              "          } catch (error) {\n",
              "            console.error('Error during call to suggestCharts:', error);\n",
              "          }\n",
              "          quickchartButtonEl.classList.remove('colab-df-spinner');\n",
              "          quickchartButtonEl.classList.add('colab-df-quickchart-complete');\n",
              "        }\n",
              "        (() => {\n",
              "          let quickchartButtonEl =\n",
              "            document.querySelector('#df-98f4d79a-37cf-4d71-bc9b-83be20124625 button');\n",
              "          quickchartButtonEl.style.display =\n",
              "            google.colab.kernel.accessAllowed ? 'block' : 'none';\n",
              "        })();\n",
              "      </script>\n",
              "    </div>\n",
              "\n",
              "    </div>\n",
              "  </div>\n"
            ],
            "application/vnd.google.colaboratory.intrinsic+json": {
              "type": "dataframe",
              "variable_name": "df",
              "summary": "{\n  \"name\": \"df\",\n  \"rows\": 48217,\n  \"fields\": [\n    {\n      \"column\": \"provinces\",\n      \"properties\": {\n        \"dtype\": \"category\",\n        \"num_unique_values\": 31,\n        \"samples\": [\n          \"\\u0631\\u062f\\u0647:\\u0631\\u0648\\u0633\\u062a\\u0627\\u0647\\u0627\\u06cc \\u0627\\u0633\\u062a\\u0627\\u0646 \\u0647\\u0631\\u0645\\u0632\\u06af\\u0627\\u0646\",\n          \"\\u0631\\u062f\\u0647:\\u0631\\u0648\\u0633\\u062a\\u0627\\u0647\\u0627\\u06cc \\u0627\\u0633\\u062a\\u0627\\u0646 \\u0633\\u06cc\\u0633\\u062a\\u0627\\u0646 \\u0648 \\u0628\\u0644\\u0648\\u0686\\u0633\\u062a\\u0627\\u0646\",\n          \"\\u0631\\u062f\\u0647:\\u0631\\u0648\\u0633\\u062a\\u0627\\u0647\\u0627\\u06cc \\u0627\\u0633\\u062a\\u0627\\u0646 \\u06af\\u0644\\u0633\\u062a\\u0627\\u0646\"\n        ],\n        \"semantic_type\": \"\",\n        \"description\": \"\"\n      }\n    },\n    {\n      \"column\": \"cities\",\n      \"properties\": {\n        \"dtype\": \"category\",\n        \"num_unique_values\": 435,\n        \"samples\": [\n          \"\\u0631\\u062f\\u0647:\\u0631\\u0648\\u0633\\u062a\\u0627\\u0647\\u0627\\u06cc \\u0634\\u0647\\u0631\\u0633\\u062a\\u0627\\u0646 \\u062f\\u06cc\\u0648\\u0627\\u0646\\u062f\\u0631\\u0647\",\n          \"\\u0631\\u062f\\u0647:\\u0631\\u0648\\u0633\\u062a\\u0627\\u0647\\u0627\\u06cc \\u0634\\u0647\\u0631\\u0633\\u062a\\u0627\\u0646 \\u0627\\u06cc\\u0644\\u0627\\u0645\",\n          \"\\u0631\\u062f\\u0647:\\u0631\\u0648\\u0633\\u062a\\u0627\\u0647\\u0627\\u06cc \\u0634\\u0647\\u0631\\u0633\\u062a\\u0627\\u0646 \\u0634\\u0647\\u0631\\u06a9\\u0631\\u062f\"\n        ],\n        \"semantic_type\": \"\",\n        \"description\": \"\"\n      }\n    },\n    {\n      \"column\": \"villages_names\",\n      \"properties\": {\n        \"dtype\": \"string\",\n        \"num_unique_values\": 48033,\n        \"samples\": [\n          \"\\u0628\\u0686\\u06af\\u06cc\",\n          \"\\u062a\\u0627\\u0631\\u06cc\\u06a9\\u0644\\u0627\",\n          \"\\u0632\\u0645\\u06cc\\u0646 \\u0645\\u0648\\u0631\\u062a\"\n        ],\n        \"semantic_type\": \"\",\n        \"description\": \"\"\n      }\n    },\n    {\n      \"column\": \"names\",\n      \"properties\": {\n        \"dtype\": \"string\",\n        \"num_unique_values\": 34828,\n        \"samples\": [\n          \"\\u06af\\u0648\\u0647\\u0631\\u0627\\u0646\",\n          \"\\u0628\\u0644\\u0648\\u0686\\u200c\\u0622\\u0628\\u0627\\u062f \\u0645\\u0634\\u0648\",\n          \"\\u0645\\u06cc\\u0634\\u06a9\\u0631\"\n        ],\n        \"semantic_type\": \"\",\n        \"description\": \"\"\n      }\n    }\n  ]\n}"
            }
          },
          "metadata": {},
          "execution_count": 36
        }
      ],
      "source": [
        "# Define the Google Drive file ID\n",
        "file_id = \"1diRpnHII0HCeemkZhdXxQTG94JvM54_g\"\n",
        "download_url = f\"https://drive.google.com/uc?export=download&id={file_id}\"\n",
        "output_file = \"data.xlsx\"\n",
        "\n",
        "# Download the file\n",
        "gdown.download(download_url, output_file, quiet=False)\n",
        "\n",
        "# Load the file into a DataFrame\n",
        "df = pd.read_excel(output_file)\n",
        "\n",
        "# Display the first few rows\n",
        "df.head()"
      ]
    },
    {
      "cell_type": "markdown",
      "source": [
        "### **Functions**"
      ],
      "metadata": {
        "id": "wXttJuh1yVky"
      },
      "id": "wXttJuh1yVky"
    },
    {
      "cell_type": "code",
      "execution_count": 37,
      "id": "92b43cd7",
      "metadata": {
        "id": "92b43cd7"
      },
      "outputs": [],
      "source": [
        "# Converting names to phonetics\n",
        "def NameVectorizer (name):\n",
        "    phonetics = [\n",
        "        [r'\\s', ' '], ['‌', ' '],\n",
        "        [r'(^|\\s)ا', 'æ'], ['ا', 'ɑ'], ['آ', 'ʔɑ'],\n",
        "        ['ء', 'ʔ'], ['ع', 'ʔ'], ['أ', 'ʔ'], ['ؤ', 'ʔ'], ['ئ', 'ʔ'],\n",
        "        ['ب', 'b'],\n",
        "        ['پ', 'p'],\n",
        "        ['ت', 't'], ['ط', 't'],\n",
        "        ['ث', 's'], ['س', 's'], ['ص', 's'],\n",
        "        ['ج', 'ʤ'],\n",
        "        ['چ', 'ʧ'],\n",
        "        ['ه', 'h'], ['ح', 'h'],\n",
        "        ['خ', 'χ'],\n",
        "        ['د', 'd'],\n",
        "        ['ذ', 'z'], ['ز', 'z'], ['ض', 'z'], ['ظ', 'z'],\n",
        "        ['ر', 'r'],\n",
        "        ['ژ', 'ʒ'],\n",
        "        ['ش', 'ʃ'],\n",
        "        ['غ', 'ʁ'], ['ق', 'ʁ'],\n",
        "        ['ف', 'f'],\n",
        "        ['ک', 'k'],\n",
        "        ['گ', 'g'],\n",
        "        ['ل', 'l'],\n",
        "        ['م', 'm'],\n",
        "        ['ن', 'n'],\n",
        "        ['و', 'v'],\n",
        "        ['ی', 'j'],\n",
        "    ]\n",
        "\n",
        "    for item in phonetics:\n",
        "        vaj, phonem = item\n",
        "        name = re.sub(vaj, phonem, name)\n",
        "\n",
        "    return name"
      ]
    },
    {
      "cell_type": "code",
      "execution_count": 38,
      "id": "33332279",
      "metadata": {
        "id": "33332279",
        "colab": {
          "base_uri": "https://localhost:8080/"
        },
        "outputId": "bcd0b896-f418-4dbb-85f6-7185a3150309"
      },
      "outputs": [
        {
          "output_type": "stream",
          "name": "stdout",
          "text": [
            "<class 'pandas.core.frame.DataFrame'>\n",
            "Index: 34828 entries, 0 to 48216\n",
            "Data columns (total 2 columns):\n",
            " #   Column     Non-Null Count  Dtype \n",
            "---  ------     --------------  ----- \n",
            " 0   names      34828 non-null  object\n",
            " 1   phonetics  34828 non-null  object\n",
            "dtypes: object(2)\n",
            "memory usage: 816.3+ KB\n"
          ]
        }
      ],
      "source": [
        "# Preparing phonetics\n",
        "df_new = df[['names']].dropna().drop_duplicates()\n",
        "df_new['phonetics'] = df_new['names'].apply(NameVectorizer)\n",
        "df_new.info()"
      ]
    },
    {
      "cell_type": "code",
      "execution_count": 39,
      "id": "d9ef7f12",
      "metadata": {
        "id": "d9ef7f12",
        "colab": {
          "base_uri": "https://localhost:8080/"
        },
        "outputId": "127a3865-94de-4d75-ecf0-c57debfd7d7c"
      },
      "outputs": [
        {
          "output_type": "execute_result",
          "data": {
            "text/plain": [
              "(34828, 35)"
            ]
          },
          "metadata": {},
          "execution_count": 39
        }
      ],
      "source": [
        "# TF-IDF vectorization\n",
        "from sklearn.feature_extraction.text import TfidfVectorizer\n",
        "\n",
        "tfidf = TfidfVectorizer(token_pattern='\\w')\n",
        "tfidf.fit(df_new['phonetics'])\n",
        "tfidf_matrix = tfidf.transform(df_new['phonetics'])\n",
        "tfidf_matrix.shape"
      ]
    },
    {
      "cell_type": "code",
      "execution_count": 40,
      "id": "33b7686e",
      "metadata": {
        "id": "33b7686e",
        "colab": {
          "base_uri": "https://localhost:8080/"
        },
        "outputId": "7f780b1c-42a9-498b-b6ff-45b56713f413"
      },
      "outputs": [
        {
          "output_type": "execute_result",
          "data": {
            "text/plain": [
              "array(['b', 'd', 'f', 'g', 'h', 'j', 'k', 'l', 'm', 'n', 'p', 'r', 's',\n",
              "       't', 'v', 'z', 'æ', 'ɑ', 'ʁ', 'ʃ', 'ʒ', 'ʔ', 'ʤ', 'ʧ', 'χ', '۰',\n",
              "       '۱', '۲', '۳', '۴', '۵', '۶', '۷', '۸', '۹'], dtype=object)"
            ]
          },
          "metadata": {},
          "execution_count": 40
        }
      ],
      "source": [
        "tfidf.get_feature_names_out()"
      ]
    },
    {
      "cell_type": "code",
      "execution_count": 41,
      "id": "2f97d60d",
      "metadata": {
        "id": "2f97d60d",
        "colab": {
          "base_uri": "https://localhost:8080/"
        },
        "outputId": "6ef6b19a-f4e5-4a53-94a7-2b492ba627f0"
      },
      "outputs": [
        {
          "output_type": "execute_result",
          "data": {
            "text/plain": [
              "(1, 35)"
            ]
          },
          "metadata": {},
          "execution_count": 41
        }
      ],
      "source": [
        "my_word = pd.Series(my_word)\n",
        "my_word = my_word.apply(NameVectorizer)\n",
        "my_vect = tfidf.transform(my_word)\n",
        "my_vect.shape"
      ]
    },
    {
      "cell_type": "code",
      "execution_count": 42,
      "id": "9f235dc9",
      "metadata": {
        "id": "9f235dc9"
      },
      "outputs": [],
      "source": [
        "from sklearn.metrics.pairwise import linear_kernel\n",
        "\n",
        "cosine_sim = linear_kernel(my_vect, tfidf_matrix).tolist()\n",
        "sim_scores = list(enumerate(cosine_sim[0]))\n",
        "sim_scores = sorted(sim_scores, key=lambda x: x[1], reverse=True)\n"
      ]
    },
    {
      "cell_type": "code",
      "source": [
        "sim_scores = sim_scores[0:10]\n",
        "name_indices = [i[0] for i in sim_scores]\n",
        "selected_names = df_new['names'].iloc[name_indices].tolist()\n",
        "\n",
        "def suggested_names(name_list):\n",
        "  for i, item in enumerate(name_list, start=1):\n",
        "    print(f\"{i}. {item}\")"
      ],
      "metadata": {
        "id": "3AZCKnFj9cmA"
      },
      "id": "3AZCKnFj9cmA",
      "execution_count": 43,
      "outputs": []
    },
    {
      "cell_type": "markdown",
      "source": [
        "## **Result**"
      ],
      "metadata": {
        "id": "qkL46gLN0uXr"
      },
      "id": "qkL46gLN0uXr"
    },
    {
      "cell_type": "code",
      "execution_count": 44,
      "id": "cbc2bb34",
      "metadata": {
        "id": "cbc2bb34",
        "colab": {
          "base_uri": "https://localhost:8080/"
        },
        "outputId": "eb28a249-98d2-4c75-9b57-e21e6d544aac"
      },
      "outputs": [
        {
          "output_type": "stream",
          "name": "stdout",
          "text": [
            "1. اسپند\n",
            "2. اسپرین\n",
            "3. اسپر\n",
            "4. اسپی بن\n",
            "5. اسپس\n",
            "6. اسپیدان\n",
            "7. اسپاس\n",
            "8. اسپیکان\n",
            "9. پی‌استان\n",
            "10. اسپید\n"
          ]
        }
      ],
      "source": [
        "suggested_names(selected_names)"
      ]
    }
  ],
  "metadata": {
    "kernelspec": {
      "display_name": "Python 3 (ipykernel)",
      "language": "python",
      "name": "python3"
    },
    "language_info": {
      "codemirror_mode": {
        "name": "ipython",
        "version": 3
      },
      "file_extension": ".py",
      "mimetype": "text/x-python",
      "name": "python",
      "nbconvert_exporter": "python",
      "pygments_lexer": "ipython3",
      "version": "3.9.13"
    },
    "colab": {
      "provenance": [],
      "collapsed_sections": [
        "tZHe_TA604dS",
        "HuOnMt_iyE0U",
        "-yG9lHc0yJ1y",
        "wXttJuh1yVky"
      ],
      "include_colab_link": true
    }
  },
  "nbformat": 4,
  "nbformat_minor": 5
}